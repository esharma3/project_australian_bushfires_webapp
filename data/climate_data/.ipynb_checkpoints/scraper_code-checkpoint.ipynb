{
 "cells": [
  {
   "cell_type": "code",
   "execution_count": 1,
   "metadata": {},
   "outputs": [
    {
     "data": {
      "application/javascript": [
       "\n",
       "            setTimeout(function() {\n",
       "                var nbb_cell_id = 1;\n",
       "                var nbb_unformatted_code = \"# importing dependencies here\\nimport requests\\nfrom bs4 import BeautifulSoup\\nimport pandas as pd\\nfrom selenium import webdriver\\nimport csv\\nfrom tabula import read_pdf\\nimport tabula\\n\\ndegree_sign = u\\\"\\\\N{DEGREE SIGN}\\\"\\n\\n%load_ext nb_black\";\n",
       "                var nbb_formatted_code = \"# importing dependencies here\\nimport requests\\nfrom bs4 import BeautifulSoup\\nimport pandas as pd\\nfrom selenium import webdriver\\nimport csv\\nfrom tabula import read_pdf\\nimport tabula\\n\\ndegree_sign = u\\\"\\\\N{DEGREE SIGN}\\\"\\n\\n%load_ext nb_black\";\n",
       "                var nbb_cells = Jupyter.notebook.get_cells();\n",
       "                for (var i = 0; i < nbb_cells.length; ++i) {\n",
       "                    if (nbb_cells[i].input_prompt_number == nbb_cell_id) {\n",
       "                        if (nbb_cells[i].get_text() == nbb_unformatted_code) {\n",
       "                             nbb_cells[i].set_text(nbb_formatted_code);\n",
       "                        }\n",
       "                        break;\n",
       "                    }\n",
       "                }\n",
       "            }, 500);\n",
       "            "
      ],
      "text/plain": [
       "<IPython.core.display.Javascript object>"
      ]
     },
     "metadata": {},
     "output_type": "display_data"
    }
   ],
   "source": [
    "# importing dependencies here\n",
    "import requests\n",
    "from bs4 import BeautifulSoup\n",
    "import pandas as pd\n",
    "from selenium import webdriver\n",
    "import csv\n",
    "from tabula import read_pdf\n",
    "import tabula\n",
    "\n",
    "degree_sign = u\"\\N{DEGREE SIGN}\"\n",
    "\n",
    "%load_ext nb_black"
   ]
  },
  {
   "cell_type": "code",
   "execution_count": 2,
   "metadata": {},
   "outputs": [
    {
     "data": {
      "text/html": [
       "<div>\n",
       "<style scoped>\n",
       "    .dataframe tbody tr th:only-of-type {\n",
       "        vertical-align: middle;\n",
       "    }\n",
       "\n",
       "    .dataframe tbody tr th {\n",
       "        vertical-align: top;\n",
       "    }\n",
       "\n",
       "    .dataframe thead th {\n",
       "        text-align: right;\n",
       "    }\n",
       "</style>\n",
       "<table border=\"1\" class=\"dataframe\">\n",
       "  <thead>\n",
       "    <tr style=\"text-align: right;\">\n",
       "      <th></th>\n",
       "      <th>year</th>\n",
       "      <th>max_temp_anomaly_celcius</th>\n",
       "    </tr>\n",
       "  </thead>\n",
       "  <tbody>\n",
       "    <tr>\n",
       "      <th>0</th>\n",
       "      <td>1910</td>\n",
       "      <td>-0.71</td>\n",
       "    </tr>\n",
       "    <tr>\n",
       "      <th>1</th>\n",
       "      <td>1911</td>\n",
       "      <td>-0.51</td>\n",
       "    </tr>\n",
       "    <tr>\n",
       "      <th>2</th>\n",
       "      <td>1912</td>\n",
       "      <td>-0.00</td>\n",
       "    </tr>\n",
       "    <tr>\n",
       "      <th>3</th>\n",
       "      <td>1913</td>\n",
       "      <td>-0.71</td>\n",
       "    </tr>\n",
       "    <tr>\n",
       "      <th>4</th>\n",
       "      <td>1914</td>\n",
       "      <td>0.18</td>\n",
       "    </tr>\n",
       "  </tbody>\n",
       "</table>\n",
       "</div>"
      ],
      "text/plain": [
       "   year  max_temp_anomaly_celcius\n",
       "0  1910                     -0.71\n",
       "1  1911                     -0.51\n",
       "2  1912                     -0.00\n",
       "3  1913                     -0.71\n",
       "4  1914                      0.18"
      ]
     },
     "execution_count": 2,
     "metadata": {},
     "output_type": "execute_result"
    },
    {
     "data": {
      "application/javascript": [
       "\n",
       "            setTimeout(function() {\n",
       "                var nbb_cell_id = 2;\n",
       "                var nbb_unformatted_code = \"url = \\\"http://www.bom.gov.au/web01/ncc/www/cli_chg/timeseries/tmax/0112/aus/latest.txt\\\"\\nresponse_string = requests.get(url).text.split(\\\"\\\\n\\\")[:-1]\\ncol1 = [int(item[0:4]) for item in response_string]\\ncol2 = [float(item[15:]) for item in response_string]\\ndict_of_cols = {\\\"year\\\": col1, f\\\"max_temp_anomaly_celcius\\\": col2}\\naus_max_temp_anomaly_df = pd.DataFrame(data=dict_of_cols)\\naus_max_temp_anomaly_df.to_csv(\\\"aus_max_temp_anomaly_data.csv\\\", index=False)\\naus_max_temp_anomaly_df.head()\";\n",
       "                var nbb_formatted_code = \"url = \\\"http://www.bom.gov.au/web01/ncc/www/cli_chg/timeseries/tmax/0112/aus/latest.txt\\\"\\nresponse_string = requests.get(url).text.split(\\\"\\\\n\\\")[:-1]\\ncol1 = [int(item[0:4]) for item in response_string]\\ncol2 = [float(item[15:]) for item in response_string]\\ndict_of_cols = {\\\"year\\\": col1, f\\\"max_temp_anomaly_celcius\\\": col2}\\naus_max_temp_anomaly_df = pd.DataFrame(data=dict_of_cols)\\naus_max_temp_anomaly_df.to_csv(\\\"aus_max_temp_anomaly_data.csv\\\", index=False)\\naus_max_temp_anomaly_df.head()\";\n",
       "                var nbb_cells = Jupyter.notebook.get_cells();\n",
       "                for (var i = 0; i < nbb_cells.length; ++i) {\n",
       "                    if (nbb_cells[i].input_prompt_number == nbb_cell_id) {\n",
       "                        if (nbb_cells[i].get_text() == nbb_unformatted_code) {\n",
       "                             nbb_cells[i].set_text(nbb_formatted_code);\n",
       "                        }\n",
       "                        break;\n",
       "                    }\n",
       "                }\n",
       "            }, 500);\n",
       "            "
      ],
      "text/plain": [
       "<IPython.core.display.Javascript object>"
      ]
     },
     "metadata": {},
     "output_type": "display_data"
    }
   ],
   "source": [
    "url = \"http://www.bom.gov.au/web01/ncc/www/cli_chg/timeseries/tmax/0112/aus/latest.txt\"\n",
    "response_string = requests.get(url).text.split(\"\\n\")[:-1]\n",
    "col1 = [int(item[0:4]) for item in response_string]\n",
    "col2 = [float(item[15:]) for item in response_string]\n",
    "dict_of_cols = {\"year\": col1, f\"max_temp_anomaly_celcius\": col2}\n",
    "aus_max_temp_anomaly_df = pd.DataFrame(data=dict_of_cols)\n",
    "aus_max_temp_anomaly_df.to_csv(\"aus_max_temp_anomaly_data.csv\", index=False)\n",
    "aus_max_temp_anomaly_df.head()"
   ]
  },
  {
   "cell_type": "code",
   "execution_count": 3,
   "metadata": {},
   "outputs": [
    {
     "data": {
      "text/html": [
       "<div>\n",
       "<style scoped>\n",
       "    .dataframe tbody tr th:only-of-type {\n",
       "        vertical-align: middle;\n",
       "    }\n",
       "\n",
       "    .dataframe tbody tr th {\n",
       "        vertical-align: top;\n",
       "    }\n",
       "\n",
       "    .dataframe thead th {\n",
       "        text-align: right;\n",
       "    }\n",
       "</style>\n",
       "<table border=\"1\" class=\"dataframe\">\n",
       "  <thead>\n",
       "    <tr style=\"text-align: right;\">\n",
       "      <th></th>\n",
       "      <th>year</th>\n",
       "      <th>min_temp_anomaly_celcius</th>\n",
       "    </tr>\n",
       "  </thead>\n",
       "  <tbody>\n",
       "    <tr>\n",
       "      <th>0</th>\n",
       "      <td>1910</td>\n",
       "      <td>-0.32</td>\n",
       "    </tr>\n",
       "    <tr>\n",
       "      <th>1</th>\n",
       "      <td>1911</td>\n",
       "      <td>-0.86</td>\n",
       "    </tr>\n",
       "  </tbody>\n",
       "</table>\n",
       "</div>"
      ],
      "text/plain": [
       "   year  min_temp_anomaly_celcius\n",
       "0  1910                     -0.32\n",
       "1  1911                     -0.86"
      ]
     },
     "execution_count": 3,
     "metadata": {},
     "output_type": "execute_result"
    },
    {
     "data": {
      "application/javascript": [
       "\n",
       "            setTimeout(function() {\n",
       "                var nbb_cell_id = 3;\n",
       "                var nbb_unformatted_code = \"url = \\\"http://www.bom.gov.au/web01/ncc/www/cli_chg/timeseries/tmin/0112/aus/latest.txt\\\"\\nresponse_string = requests.get(url).text.split(\\\"\\\\n\\\")[:-1]\\ncol1 = [int(item[0:4]) for item in response_string]\\ncol2 = [float(item[15:]) for item in response_string]\\ndict_of_cols = {\\\"year\\\": col1, \\\"min_temp_anomaly_celcius\\\": col2}\\naus_min_temp_anomaly_df = pd.DataFrame(data=dict_of_cols)\\naus_min_temp_anomaly_df.to_csv(\\\"aus_min_temp_anomaly_data(C).csv\\\", index=False)\\naus_min_temp_anomaly_df.head(2)\";\n",
       "                var nbb_formatted_code = \"url = \\\"http://www.bom.gov.au/web01/ncc/www/cli_chg/timeseries/tmin/0112/aus/latest.txt\\\"\\nresponse_string = requests.get(url).text.split(\\\"\\\\n\\\")[:-1]\\ncol1 = [int(item[0:4]) for item in response_string]\\ncol2 = [float(item[15:]) for item in response_string]\\ndict_of_cols = {\\\"year\\\": col1, \\\"min_temp_anomaly_celcius\\\": col2}\\naus_min_temp_anomaly_df = pd.DataFrame(data=dict_of_cols)\\naus_min_temp_anomaly_df.to_csv(\\\"aus_min_temp_anomaly_data(C).csv\\\", index=False)\\naus_min_temp_anomaly_df.head(2)\";\n",
       "                var nbb_cells = Jupyter.notebook.get_cells();\n",
       "                for (var i = 0; i < nbb_cells.length; ++i) {\n",
       "                    if (nbb_cells[i].input_prompt_number == nbb_cell_id) {\n",
       "                        if (nbb_cells[i].get_text() == nbb_unformatted_code) {\n",
       "                             nbb_cells[i].set_text(nbb_formatted_code);\n",
       "                        }\n",
       "                        break;\n",
       "                    }\n",
       "                }\n",
       "            }, 500);\n",
       "            "
      ],
      "text/plain": [
       "<IPython.core.display.Javascript object>"
      ]
     },
     "metadata": {},
     "output_type": "display_data"
    }
   ],
   "source": [
    "url = \"http://www.bom.gov.au/web01/ncc/www/cli_chg/timeseries/tmin/0112/aus/latest.txt\"\n",
    "response_string = requests.get(url).text.split(\"\\n\")[:-1]\n",
    "col1 = [int(item[0:4]) for item in response_string]\n",
    "col2 = [float(item[15:]) for item in response_string]\n",
    "dict_of_cols = {\"year\": col1, \"min_temp_anomaly_celcius\": col2}\n",
    "aus_min_temp_anomaly_df = pd.DataFrame(data=dict_of_cols)\n",
    "aus_min_temp_anomaly_df.to_csv(\"aus_min_temp_anomaly_data(C).csv\", index=False)\n",
    "aus_min_temp_anomaly_df.head(2)"
   ]
  },
  {
   "cell_type": "code",
   "execution_count": 4,
   "metadata": {},
   "outputs": [
    {
     "data": {
      "text/html": [
       "<div>\n",
       "<style scoped>\n",
       "    .dataframe tbody tr th:only-of-type {\n",
       "        vertical-align: middle;\n",
       "    }\n",
       "\n",
       "    .dataframe tbody tr th {\n",
       "        vertical-align: top;\n",
       "    }\n",
       "\n",
       "    .dataframe thead th {\n",
       "        text-align: right;\n",
       "    }\n",
       "</style>\n",
       "<table border=\"1\" class=\"dataframe\">\n",
       "  <thead>\n",
       "    <tr style=\"text-align: right;\">\n",
       "      <th></th>\n",
       "      <th>year</th>\n",
       "      <th>mean_temp_anomaly_celcius</th>\n",
       "    </tr>\n",
       "  </thead>\n",
       "  <tbody>\n",
       "    <tr>\n",
       "      <th>0</th>\n",
       "      <td>1910</td>\n",
       "      <td>-0.51</td>\n",
       "    </tr>\n",
       "    <tr>\n",
       "      <th>1</th>\n",
       "      <td>1911</td>\n",
       "      <td>-0.68</td>\n",
       "    </tr>\n",
       "  </tbody>\n",
       "</table>\n",
       "</div>"
      ],
      "text/plain": [
       "   year  mean_temp_anomaly_celcius\n",
       "0  1910                      -0.51\n",
       "1  1911                      -0.68"
      ]
     },
     "execution_count": 4,
     "metadata": {},
     "output_type": "execute_result"
    },
    {
     "data": {
      "application/javascript": [
       "\n",
       "            setTimeout(function() {\n",
       "                var nbb_cell_id = 4;\n",
       "                var nbb_unformatted_code = \"url = \\\"http://www.bom.gov.au/web01/ncc/www/cli_chg/timeseries/tmean/0112/aus/latest.txt\\\"\\nresponse_string = requests.get(url).text.split(\\\"\\\\n\\\")[:-1]\\ncol1 = [int(item[0:4]) for item in response_string]\\ncol2 = [float(item[15:]) for item in response_string]\\ndict_of_cols = {\\\"year\\\": col1, \\\"mean_temp_anomaly_celcius\\\": col2}\\naus_mean_temp_anomaly_df = pd.DataFrame(data=dict_of_cols)\\naus_mean_temp_anomaly_df.to_csv(\\\"aus_mean_temp_anomaly_data.csv\\\", index=False)\\naus_mean_temp_anomaly_df.head(2)\";\n",
       "                var nbb_formatted_code = \"url = \\\"http://www.bom.gov.au/web01/ncc/www/cli_chg/timeseries/tmean/0112/aus/latest.txt\\\"\\nresponse_string = requests.get(url).text.split(\\\"\\\\n\\\")[:-1]\\ncol1 = [int(item[0:4]) for item in response_string]\\ncol2 = [float(item[15:]) for item in response_string]\\ndict_of_cols = {\\\"year\\\": col1, \\\"mean_temp_anomaly_celcius\\\": col2}\\naus_mean_temp_anomaly_df = pd.DataFrame(data=dict_of_cols)\\naus_mean_temp_anomaly_df.to_csv(\\\"aus_mean_temp_anomaly_data.csv\\\", index=False)\\naus_mean_temp_anomaly_df.head(2)\";\n",
       "                var nbb_cells = Jupyter.notebook.get_cells();\n",
       "                for (var i = 0; i < nbb_cells.length; ++i) {\n",
       "                    if (nbb_cells[i].input_prompt_number == nbb_cell_id) {\n",
       "                        if (nbb_cells[i].get_text() == nbb_unformatted_code) {\n",
       "                             nbb_cells[i].set_text(nbb_formatted_code);\n",
       "                        }\n",
       "                        break;\n",
       "                    }\n",
       "                }\n",
       "            }, 500);\n",
       "            "
      ],
      "text/plain": [
       "<IPython.core.display.Javascript object>"
      ]
     },
     "metadata": {},
     "output_type": "display_data"
    }
   ],
   "source": [
    "url = \"http://www.bom.gov.au/web01/ncc/www/cli_chg/timeseries/tmean/0112/aus/latest.txt\"\n",
    "response_string = requests.get(url).text.split(\"\\n\")[:-1]\n",
    "col1 = [int(item[0:4]) for item in response_string]\n",
    "col2 = [float(item[15:]) for item in response_string]\n",
    "dict_of_cols = {\"year\": col1, \"mean_temp_anomaly_celcius\": col2}\n",
    "aus_mean_temp_anomaly_df = pd.DataFrame(data=dict_of_cols)\n",
    "aus_mean_temp_anomaly_df.to_csv(\"aus_mean_temp_anomaly_data.csv\", index=False)\n",
    "aus_mean_temp_anomaly_df.head(2)"
   ]
  },
  {
   "cell_type": "code",
   "execution_count": 5,
   "metadata": {},
   "outputs": [
    {
     "data": {
      "text/html": [
       "<div>\n",
       "<style scoped>\n",
       "    .dataframe tbody tr th:only-of-type {\n",
       "        vertical-align: middle;\n",
       "    }\n",
       "\n",
       "    .dataframe tbody tr th {\n",
       "        vertical-align: top;\n",
       "    }\n",
       "\n",
       "    .dataframe thead th {\n",
       "        text-align: right;\n",
       "    }\n",
       "</style>\n",
       "<table border=\"1\" class=\"dataframe\">\n",
       "  <thead>\n",
       "    <tr style=\"text-align: right;\">\n",
       "      <th></th>\n",
       "      <th>year</th>\n",
       "      <th>annual_rainfall_mm</th>\n",
       "    </tr>\n",
       "  </thead>\n",
       "  <tbody>\n",
       "    <tr>\n",
       "      <th>0</th>\n",
       "      <td>1900</td>\n",
       "      <td>373.40</td>\n",
       "    </tr>\n",
       "    <tr>\n",
       "      <th>1</th>\n",
       "      <td>1901</td>\n",
       "      <td>406.65</td>\n",
       "    </tr>\n",
       "  </tbody>\n",
       "</table>\n",
       "</div>"
      ],
      "text/plain": [
       "   year  annual_rainfall_mm\n",
       "0  1900              373.40\n",
       "1  1901              406.65"
      ]
     },
     "execution_count": 5,
     "metadata": {},
     "output_type": "execute_result"
    },
    {
     "data": {
      "application/javascript": [
       "\n",
       "            setTimeout(function() {\n",
       "                var nbb_cell_id = 5;\n",
       "                var nbb_unformatted_code = \"url = \\\"http://www.bom.gov.au/web01/ncc/www/cli_chg/timeseries/rain/0112/aus/latest.txt\\\"\\nresponse_string = requests.get(url).text.split(\\\"\\\\n\\\")[:-1]\\ncol1 = [int(item[0:4]) for item in response_string]\\ncol2 = [float(item[14:]) for item in response_string]\\ndict_of_cols = {\\\"year\\\": col1, \\\"annual_rainfall_mm\\\": col2}\\naus_annual_rainfall_df = pd.DataFrame(data=dict_of_cols)\\naus_annual_rainfall_df.to_csv(\\\"aus_annual_rainfall_data.csv\\\", index=False)\\naus_annual_rainfall_df.head(2)\";\n",
       "                var nbb_formatted_code = \"url = \\\"http://www.bom.gov.au/web01/ncc/www/cli_chg/timeseries/rain/0112/aus/latest.txt\\\"\\nresponse_string = requests.get(url).text.split(\\\"\\\\n\\\")[:-1]\\ncol1 = [int(item[0:4]) for item in response_string]\\ncol2 = [float(item[14:]) for item in response_string]\\ndict_of_cols = {\\\"year\\\": col1, \\\"annual_rainfall_mm\\\": col2}\\naus_annual_rainfall_df = pd.DataFrame(data=dict_of_cols)\\naus_annual_rainfall_df.to_csv(\\\"aus_annual_rainfall_data.csv\\\", index=False)\\naus_annual_rainfall_df.head(2)\";\n",
       "                var nbb_cells = Jupyter.notebook.get_cells();\n",
       "                for (var i = 0; i < nbb_cells.length; ++i) {\n",
       "                    if (nbb_cells[i].input_prompt_number == nbb_cell_id) {\n",
       "                        if (nbb_cells[i].get_text() == nbb_unformatted_code) {\n",
       "                             nbb_cells[i].set_text(nbb_formatted_code);\n",
       "                        }\n",
       "                        break;\n",
       "                    }\n",
       "                }\n",
       "            }, 500);\n",
       "            "
      ],
      "text/plain": [
       "<IPython.core.display.Javascript object>"
      ]
     },
     "metadata": {},
     "output_type": "display_data"
    }
   ],
   "source": [
    "url = \"http://www.bom.gov.au/web01/ncc/www/cli_chg/timeseries/rain/0112/aus/latest.txt\"\n",
    "response_string = requests.get(url).text.split(\"\\n\")[:-1]\n",
    "col1 = [int(item[0:4]) for item in response_string]\n",
    "col2 = [float(item[14:]) for item in response_string]\n",
    "dict_of_cols = {\"year\": col1, \"annual_rainfall_mm\": col2}\n",
    "aus_annual_rainfall_df = pd.DataFrame(data=dict_of_cols)\n",
    "aus_annual_rainfall_df.to_csv(\"aus_annual_rainfall_data.csv\", index=False)\n",
    "aus_annual_rainfall_df.head(2)"
   ]
  },
  {
   "cell_type": "code",
   "execution_count": 6,
   "metadata": {},
   "outputs": [
    {
     "data": {
      "text/html": [
       "<div>\n",
       "<style scoped>\n",
       "    .dataframe tbody tr th:only-of-type {\n",
       "        vertical-align: middle;\n",
       "    }\n",
       "\n",
       "    .dataframe tbody tr th {\n",
       "        vertical-align: top;\n",
       "    }\n",
       "\n",
       "    .dataframe thead th {\n",
       "        text-align: right;\n",
       "    }\n",
       "</style>\n",
       "<table border=\"1\" class=\"dataframe\">\n",
       "  <thead>\n",
       "    <tr style=\"text-align: right;\">\n",
       "      <th></th>\n",
       "      <th>year</th>\n",
       "      <th>annual_rainfall_anomaly_mm</th>\n",
       "    </tr>\n",
       "  </thead>\n",
       "  <tbody>\n",
       "    <tr>\n",
       "      <th>0</th>\n",
       "      <td>1900</td>\n",
       "      <td>-91.79</td>\n",
       "    </tr>\n",
       "    <tr>\n",
       "      <th>1</th>\n",
       "      <td>1901</td>\n",
       "      <td>-58.54</td>\n",
       "    </tr>\n",
       "  </tbody>\n",
       "</table>\n",
       "</div>"
      ],
      "text/plain": [
       "   year  annual_rainfall_anomaly_mm\n",
       "0  1900                      -91.79\n",
       "1  1901                      -58.54"
      ]
     },
     "execution_count": 6,
     "metadata": {},
     "output_type": "execute_result"
    },
    {
     "data": {
      "application/javascript": [
       "\n",
       "            setTimeout(function() {\n",
       "                var nbb_cell_id = 6;\n",
       "                var nbb_unformatted_code = \"url = (\\n    \\\"http://www.bom.gov.au/web01/ncc/www/cli_chg/timeseries/rranom/0112/aus/latest.txt\\\"\\n)\\nresponse_string = requests.get(url).text.split(\\\"\\\\n\\\")[:-1]\\ncol1 = [int(item[0:4]) for item in response_string]\\ncol2 = [float(item[13:]) for item in response_string]\\ndict_of_cols = {\\\"year\\\": col1, \\\"annual_rainfall_anomaly_mm\\\": col2}\\naus_annual_rainfall_anomaly_df = pd.DataFrame(data=dict_of_cols)\\naus_annual_rainfall_anomaly_df.to_csv(\\n    \\\"aus_annual_rainfall_anomaly_data.csv\\\", index=False\\n)\\naus_annual_rainfall_anomaly_df.head(2)\";\n",
       "                var nbb_formatted_code = \"url = (\\n    \\\"http://www.bom.gov.au/web01/ncc/www/cli_chg/timeseries/rranom/0112/aus/latest.txt\\\"\\n)\\nresponse_string = requests.get(url).text.split(\\\"\\\\n\\\")[:-1]\\ncol1 = [int(item[0:4]) for item in response_string]\\ncol2 = [float(item[13:]) for item in response_string]\\ndict_of_cols = {\\\"year\\\": col1, \\\"annual_rainfall_anomaly_mm\\\": col2}\\naus_annual_rainfall_anomaly_df = pd.DataFrame(data=dict_of_cols)\\naus_annual_rainfall_anomaly_df.to_csv(\\n    \\\"aus_annual_rainfall_anomaly_data.csv\\\", index=False\\n)\\naus_annual_rainfall_anomaly_df.head(2)\";\n",
       "                var nbb_cells = Jupyter.notebook.get_cells();\n",
       "                for (var i = 0; i < nbb_cells.length; ++i) {\n",
       "                    if (nbb_cells[i].input_prompt_number == nbb_cell_id) {\n",
       "                        if (nbb_cells[i].get_text() == nbb_unformatted_code) {\n",
       "                             nbb_cells[i].set_text(nbb_formatted_code);\n",
       "                        }\n",
       "                        break;\n",
       "                    }\n",
       "                }\n",
       "            }, 500);\n",
       "            "
      ],
      "text/plain": [
       "<IPython.core.display.Javascript object>"
      ]
     },
     "metadata": {},
     "output_type": "display_data"
    }
   ],
   "source": [
    "url = (\n",
    "    \"http://www.bom.gov.au/web01/ncc/www/cli_chg/timeseries/rranom/0112/aus/latest.txt\"\n",
    ")\n",
    "response_string = requests.get(url).text.split(\"\\n\")[:-1]\n",
    "col1 = [int(item[0:4]) for item in response_string]\n",
    "col2 = [float(item[13:]) for item in response_string]\n",
    "dict_of_cols = {\"year\": col1, \"annual_rainfall_anomaly_mm\": col2}\n",
    "aus_annual_rainfall_anomaly_df = pd.DataFrame(data=dict_of_cols)\n",
    "aus_annual_rainfall_anomaly_df.to_csv(\n",
    "    \"aus_annual_rainfall_anomaly_data.csv\", index=False\n",
    ")\n",
    "aus_annual_rainfall_anomaly_df.head(2)"
   ]
  },
  {
   "cell_type": "code",
   "execution_count": 7,
   "metadata": {},
   "outputs": [
    {
     "data": {
      "text/html": [
       "<div>\n",
       "<style scoped>\n",
       "    .dataframe tbody tr th:only-of-type {\n",
       "        vertical-align: middle;\n",
       "    }\n",
       "\n",
       "    .dataframe tbody tr th {\n",
       "        vertical-align: top;\n",
       "    }\n",
       "\n",
       "    .dataframe thead th {\n",
       "        text-align: right;\n",
       "    }\n",
       "</style>\n",
       "<table border=\"1\" class=\"dataframe\">\n",
       "  <thead>\n",
       "    <tr style=\"text-align: right;\">\n",
       "      <th></th>\n",
       "      <th>year</th>\n",
       "      <th>sea_surface_temp_anomaly_celcius</th>\n",
       "    </tr>\n",
       "  </thead>\n",
       "  <tbody>\n",
       "    <tr>\n",
       "      <th>0</th>\n",
       "      <td>1900</td>\n",
       "      <td>-0.08</td>\n",
       "    </tr>\n",
       "    <tr>\n",
       "      <th>1</th>\n",
       "      <td>1901</td>\n",
       "      <td>-0.49</td>\n",
       "    </tr>\n",
       "  </tbody>\n",
       "</table>\n",
       "</div>"
      ],
      "text/plain": [
       "   year  sea_surface_temp_anomaly_celcius\n",
       "0  1900                             -0.08\n",
       "1  1901                             -0.49"
      ]
     },
     "execution_count": 7,
     "metadata": {},
     "output_type": "execute_result"
    },
    {
     "data": {
      "application/javascript": [
       "\n",
       "            setTimeout(function() {\n",
       "                var nbb_cell_id = 7;\n",
       "                var nbb_unformatted_code = \"url = \\\"http://www.bom.gov.au/web01/ncc/www/cli_chg/timeseries/sst/0112/aus/latest.txt\\\"\\nresponse_string = requests.get(url).text.split(\\\"\\\\n\\\")[:-1]\\ncol1 = [int(item[0:4]) for item in response_string]\\ncol2 = [float(item[15:]) for item in response_string]\\ndict_of_cols = {\\\"year\\\": col1, \\\"sea_surface_temp_anomaly_celcius\\\": col2}\\naus_sea_surface_temp_anomaly_df = pd.DataFrame(data=dict_of_cols)\\naus_sea_surface_temp_anomaly_df.to_csv(\\n    \\\"aus_sea_surface_temp_anomaly_data.csv\\\", index=False\\n)\\naus_sea_surface_temp_anomaly_df.head(2)\";\n",
       "                var nbb_formatted_code = \"url = \\\"http://www.bom.gov.au/web01/ncc/www/cli_chg/timeseries/sst/0112/aus/latest.txt\\\"\\nresponse_string = requests.get(url).text.split(\\\"\\\\n\\\")[:-1]\\ncol1 = [int(item[0:4]) for item in response_string]\\ncol2 = [float(item[15:]) for item in response_string]\\ndict_of_cols = {\\\"year\\\": col1, \\\"sea_surface_temp_anomaly_celcius\\\": col2}\\naus_sea_surface_temp_anomaly_df = pd.DataFrame(data=dict_of_cols)\\naus_sea_surface_temp_anomaly_df.to_csv(\\n    \\\"aus_sea_surface_temp_anomaly_data.csv\\\", index=False\\n)\\naus_sea_surface_temp_anomaly_df.head(2)\";\n",
       "                var nbb_cells = Jupyter.notebook.get_cells();\n",
       "                for (var i = 0; i < nbb_cells.length; ++i) {\n",
       "                    if (nbb_cells[i].input_prompt_number == nbb_cell_id) {\n",
       "                        if (nbb_cells[i].get_text() == nbb_unformatted_code) {\n",
       "                             nbb_cells[i].set_text(nbb_formatted_code);\n",
       "                        }\n",
       "                        break;\n",
       "                    }\n",
       "                }\n",
       "            }, 500);\n",
       "            "
      ],
      "text/plain": [
       "<IPython.core.display.Javascript object>"
      ]
     },
     "metadata": {},
     "output_type": "display_data"
    }
   ],
   "source": [
    "url = \"http://www.bom.gov.au/web01/ncc/www/cli_chg/timeseries/sst/0112/aus/latest.txt\"\n",
    "response_string = requests.get(url).text.split(\"\\n\")[:-1]\n",
    "col1 = [int(item[0:4]) for item in response_string]\n",
    "col2 = [float(item[15:]) for item in response_string]\n",
    "dict_of_cols = {\"year\": col1, \"sea_surface_temp_anomaly_celcius\": col2}\n",
    "aus_sea_surface_temp_anomaly_df = pd.DataFrame(data=dict_of_cols)\n",
    "aus_sea_surface_temp_anomaly_df.to_csv(\n",
    "    \"aus_sea_surface_temp_anomaly_data.csv\", index=False\n",
    ")\n",
    "aus_sea_surface_temp_anomaly_df.head(2)"
   ]
  },
  {
   "cell_type": "code",
   "execution_count": 8,
   "metadata": {},
   "outputs": [
    {
     "data": {
      "text/html": [
       "<div>\n",
       "<style scoped>\n",
       "    .dataframe tbody tr th:only-of-type {\n",
       "        vertical-align: middle;\n",
       "    }\n",
       "\n",
       "    .dataframe tbody tr th {\n",
       "        vertical-align: top;\n",
       "    }\n",
       "\n",
       "    .dataframe thead th {\n",
       "        text-align: right;\n",
       "    }\n",
       "</style>\n",
       "<table border=\"1\" class=\"dataframe\">\n",
       "  <thead>\n",
       "    <tr style=\"text-align: right;\">\n",
       "      <th></th>\n",
       "      <th>CO2(ppm)</th>\n",
       "    </tr>\n",
       "    <tr>\n",
       "      <th>YYYY</th>\n",
       "      <th></th>\n",
       "    </tr>\n",
       "  </thead>\n",
       "  <tbody>\n",
       "    <tr>\n",
       "      <th>1976</th>\n",
       "      <td>330.172875</td>\n",
       "    </tr>\n",
       "    <tr>\n",
       "      <th>1977</th>\n",
       "      <td>331.697000</td>\n",
       "    </tr>\n",
       "  </tbody>\n",
       "</table>\n",
       "</div>"
      ],
      "text/plain": [
       "        CO2(ppm)\n",
       "YYYY            \n",
       "1976  330.172875\n",
       "1977  331.697000"
      ]
     },
     "execution_count": 8,
     "metadata": {},
     "output_type": "execute_result"
    },
    {
     "data": {
      "application/javascript": [
       "\n",
       "            setTimeout(function() {\n",
       "                var nbb_cell_id = 8;\n",
       "                var nbb_unformatted_code = \"aus_annual_mean_co2_df = (\\n    pd.read_csv(\\\"../air_pollutant_data/CapeGrim_CO2_data.csv\\\")[0:-1]\\n    .groupby(\\\"YYYY\\\")[\\\"CO2(ppm)\\\"]\\n    .mean()\\n    .to_frame()\\n)\\naus_annual_mean_co2_df.head(2)\";\n",
       "                var nbb_formatted_code = \"aus_annual_mean_co2_df = (\\n    pd.read_csv(\\\"../air_pollutant_data/CapeGrim_CO2_data.csv\\\")[0:-1]\\n    .groupby(\\\"YYYY\\\")[\\\"CO2(ppm)\\\"]\\n    .mean()\\n    .to_frame()\\n)\\naus_annual_mean_co2_df.head(2)\";\n",
       "                var nbb_cells = Jupyter.notebook.get_cells();\n",
       "                for (var i = 0; i < nbb_cells.length; ++i) {\n",
       "                    if (nbb_cells[i].input_prompt_number == nbb_cell_id) {\n",
       "                        if (nbb_cells[i].get_text() == nbb_unformatted_code) {\n",
       "                             nbb_cells[i].set_text(nbb_formatted_code);\n",
       "                        }\n",
       "                        break;\n",
       "                    }\n",
       "                }\n",
       "            }, 500);\n",
       "            "
      ],
      "text/plain": [
       "<IPython.core.display.Javascript object>"
      ]
     },
     "metadata": {},
     "output_type": "display_data"
    }
   ],
   "source": [
    "aus_annual_mean_co2_df = (\n",
    "    pd.read_csv(\"../air_pollutant_data/CapeGrim_CO2_data.csv\")[0:-1]\n",
    "    .groupby(\"YYYY\")[\"CO2(ppm)\"]\n",
    "    .mean()\n",
    "    .to_frame()\n",
    ")\n",
    "aus_annual_mean_co2_df.head(2)"
   ]
  },
  {
   "cell_type": "code",
   "execution_count": 9,
   "metadata": {},
   "outputs": [
    {
     "data": {
      "text/html": [
       "<div>\n",
       "<style scoped>\n",
       "    .dataframe tbody tr th:only-of-type {\n",
       "        vertical-align: middle;\n",
       "    }\n",
       "\n",
       "    .dataframe tbody tr th {\n",
       "        vertical-align: top;\n",
       "    }\n",
       "\n",
       "    .dataframe thead th {\n",
       "        text-align: right;\n",
       "    }\n",
       "</style>\n",
       "<table border=\"1\" class=\"dataframe\">\n",
       "  <thead>\n",
       "    <tr style=\"text-align: right;\">\n",
       "      <th></th>\n",
       "      <th>CH4(ppb)</th>\n",
       "    </tr>\n",
       "    <tr>\n",
       "      <th>YYYY</th>\n",
       "      <th></th>\n",
       "    </tr>\n",
       "  </thead>\n",
       "  <tbody>\n",
       "    <tr>\n",
       "      <th>1978</th>\n",
       "      <td>1488.05</td>\n",
       "    </tr>\n",
       "    <tr>\n",
       "      <th>1979</th>\n",
       "      <td>1495.10</td>\n",
       "    </tr>\n",
       "  </tbody>\n",
       "</table>\n",
       "</div>"
      ],
      "text/plain": [
       "      CH4(ppb)\n",
       "YYYY          \n",
       "1978   1488.05\n",
       "1979   1495.10"
      ]
     },
     "execution_count": 9,
     "metadata": {},
     "output_type": "execute_result"
    },
    {
     "data": {
      "application/javascript": [
       "\n",
       "            setTimeout(function() {\n",
       "                var nbb_cell_id = 9;\n",
       "                var nbb_unformatted_code = \"aus_annual_mean_ch4_df = (\\n    pd.read_csv(\\\"../air_pollutant_data/CapeGrim_CH4_data.csv\\\")[0:-1]\\n    .groupby(\\\"YYYY\\\")[\\\"CH4(ppb)\\\"]\\n    .mean()\\n    .to_frame()\\n)\\naus_annual_mean_ch4_df.head(2)\";\n",
       "                var nbb_formatted_code = \"aus_annual_mean_ch4_df = (\\n    pd.read_csv(\\\"../air_pollutant_data/CapeGrim_CH4_data.csv\\\")[0:-1]\\n    .groupby(\\\"YYYY\\\")[\\\"CH4(ppb)\\\"]\\n    .mean()\\n    .to_frame()\\n)\\naus_annual_mean_ch4_df.head(2)\";\n",
       "                var nbb_cells = Jupyter.notebook.get_cells();\n",
       "                for (var i = 0; i < nbb_cells.length; ++i) {\n",
       "                    if (nbb_cells[i].input_prompt_number == nbb_cell_id) {\n",
       "                        if (nbb_cells[i].get_text() == nbb_unformatted_code) {\n",
       "                             nbb_cells[i].set_text(nbb_formatted_code);\n",
       "                        }\n",
       "                        break;\n",
       "                    }\n",
       "                }\n",
       "            }, 500);\n",
       "            "
      ],
      "text/plain": [
       "<IPython.core.display.Javascript object>"
      ]
     },
     "metadata": {},
     "output_type": "display_data"
    }
   ],
   "source": [
    "aus_annual_mean_ch4_df = (\n",
    "    pd.read_csv(\"../air_pollutant_data/CapeGrim_CH4_data.csv\")[0:-1]\n",
    "    .groupby(\"YYYY\")[\"CH4(ppb)\"]\n",
    "    .mean()\n",
    "    .to_frame()\n",
    ")\n",
    "aus_annual_mean_ch4_df.head(2)"
   ]
  },
  {
   "cell_type": "code",
   "execution_count": 10,
   "metadata": {},
   "outputs": [
    {
     "data": {
      "text/html": [
       "<div>\n",
       "<style scoped>\n",
       "    .dataframe tbody tr th:only-of-type {\n",
       "        vertical-align: middle;\n",
       "    }\n",
       "\n",
       "    .dataframe tbody tr th {\n",
       "        vertical-align: top;\n",
       "    }\n",
       "\n",
       "    .dataframe thead th {\n",
       "        text-align: right;\n",
       "    }\n",
       "</style>\n",
       "<table border=\"1\" class=\"dataframe\">\n",
       "  <thead>\n",
       "    <tr style=\"text-align: right;\">\n",
       "      <th></th>\n",
       "      <th>N2O(ppb)</th>\n",
       "    </tr>\n",
       "    <tr>\n",
       "      <th>YYYY</th>\n",
       "      <th></th>\n",
       "    </tr>\n",
       "  </thead>\n",
       "  <tbody>\n",
       "    <tr>\n",
       "      <th>1978</th>\n",
       "      <td>299.37</td>\n",
       "    </tr>\n",
       "    <tr>\n",
       "      <th>1980</th>\n",
       "      <td>301.66</td>\n",
       "    </tr>\n",
       "  </tbody>\n",
       "</table>\n",
       "</div>"
      ],
      "text/plain": [
       "      N2O(ppb)\n",
       "YYYY          \n",
       "1978    299.37\n",
       "1980    301.66"
      ]
     },
     "execution_count": 10,
     "metadata": {},
     "output_type": "execute_result"
    },
    {
     "data": {
      "application/javascript": [
       "\n",
       "            setTimeout(function() {\n",
       "                var nbb_cell_id = 10;\n",
       "                var nbb_unformatted_code = \"aus_annual_mean_n2o_df = (\\n    pd.read_csv(\\\"../air_pollutant_data/CapeGrim_N2O_data.csv\\\")[0:-1]\\n    .groupby(\\\"YYYY\\\")[\\\"N2O(ppb)\\\"]\\n    .mean()\\n    .to_frame()\\n)\\naus_annual_mean_n2o_df.head(2)\";\n",
       "                var nbb_formatted_code = \"aus_annual_mean_n2o_df = (\\n    pd.read_csv(\\\"../air_pollutant_data/CapeGrim_N2O_data.csv\\\")[0:-1]\\n    .groupby(\\\"YYYY\\\")[\\\"N2O(ppb)\\\"]\\n    .mean()\\n    .to_frame()\\n)\\naus_annual_mean_n2o_df.head(2)\";\n",
       "                var nbb_cells = Jupyter.notebook.get_cells();\n",
       "                for (var i = 0; i < nbb_cells.length; ++i) {\n",
       "                    if (nbb_cells[i].input_prompt_number == nbb_cell_id) {\n",
       "                        if (nbb_cells[i].get_text() == nbb_unformatted_code) {\n",
       "                             nbb_cells[i].set_text(nbb_formatted_code);\n",
       "                        }\n",
       "                        break;\n",
       "                    }\n",
       "                }\n",
       "            }, 500);\n",
       "            "
      ],
      "text/plain": [
       "<IPython.core.display.Javascript object>"
      ]
     },
     "metadata": {},
     "output_type": "display_data"
    }
   ],
   "source": [
    "aus_annual_mean_n2o_df = (\n",
    "    pd.read_csv(\"../air_pollutant_data/CapeGrim_N2O_data.csv\")[0:-1]\n",
    "    .groupby(\"YYYY\")[\"N2O(ppb)\"]\n",
    "    .mean()\n",
    "    .to_frame()\n",
    ")\n",
    "aus_annual_mean_n2o_df.head(2)"
   ]
  },
  {
   "cell_type": "code",
   "execution_count": 11,
   "metadata": {},
   "outputs": [
    {
     "data": {
      "text/html": [
       "<div>\n",
       "<style scoped>\n",
       "    .dataframe tbody tr th:only-of-type {\n",
       "        vertical-align: middle;\n",
       "    }\n",
       "\n",
       "    .dataframe tbody tr th {\n",
       "        vertical-align: top;\n",
       "    }\n",
       "\n",
       "    .dataframe thead th {\n",
       "        text-align: right;\n",
       "    }\n",
       "</style>\n",
       "<table border=\"1\" class=\"dataframe\">\n",
       "  <thead>\n",
       "    <tr style=\"text-align: right;\">\n",
       "      <th></th>\n",
       "      <th>CO2(ppm)</th>\n",
       "      <th>CH4(ppb)</th>\n",
       "      <th>N2O(ppb)</th>\n",
       "    </tr>\n",
       "    <tr>\n",
       "      <th>YYYY</th>\n",
       "      <th></th>\n",
       "      <th></th>\n",
       "      <th></th>\n",
       "    </tr>\n",
       "  </thead>\n",
       "  <tbody>\n",
       "    <tr>\n",
       "      <th>1978</th>\n",
       "      <td>333.476000</td>\n",
       "      <td>1488.05</td>\n",
       "      <td>299.37</td>\n",
       "    </tr>\n",
       "    <tr>\n",
       "      <th>1980</th>\n",
       "      <td>336.526167</td>\n",
       "      <td>1540.10</td>\n",
       "      <td>301.66</td>\n",
       "    </tr>\n",
       "  </tbody>\n",
       "</table>\n",
       "</div>"
      ],
      "text/plain": [
       "        CO2(ppm)  CH4(ppb)  N2O(ppb)\n",
       "YYYY                                \n",
       "1978  333.476000   1488.05    299.37\n",
       "1980  336.526167   1540.10    301.66"
      ]
     },
     "execution_count": 11,
     "metadata": {},
     "output_type": "execute_result"
    },
    {
     "data": {
      "application/javascript": [
       "\n",
       "            setTimeout(function() {\n",
       "                var nbb_cell_id = 11;\n",
       "                var nbb_unformatted_code = \"aus_co2_ch4_df = pd.merge(aus_annual_mean_co2_df, aus_annual_mean_ch4_df, on=\\\"YYYY\\\")\\naus_air_pollutants_combined_data = pd.merge(\\n    aus_co2_ch4_df, aus_annual_mean_n2o_df, on=\\\"YYYY\\\"\\n)\\naus_air_pollutants_combined_data.to_csv(\\n    \\\"aus_air_pollutants_combined_data.csv\\\", index=False\\n)\\naus_air_pollutants_combined_data.head(2)\";\n",
       "                var nbb_formatted_code = \"aus_co2_ch4_df = pd.merge(aus_annual_mean_co2_df, aus_annual_mean_ch4_df, on=\\\"YYYY\\\")\\naus_air_pollutants_combined_data = pd.merge(\\n    aus_co2_ch4_df, aus_annual_mean_n2o_df, on=\\\"YYYY\\\"\\n)\\naus_air_pollutants_combined_data.to_csv(\\n    \\\"aus_air_pollutants_combined_data.csv\\\", index=False\\n)\\naus_air_pollutants_combined_data.head(2)\";\n",
       "                var nbb_cells = Jupyter.notebook.get_cells();\n",
       "                for (var i = 0; i < nbb_cells.length; ++i) {\n",
       "                    if (nbb_cells[i].input_prompt_number == nbb_cell_id) {\n",
       "                        if (nbb_cells[i].get_text() == nbb_unformatted_code) {\n",
       "                             nbb_cells[i].set_text(nbb_formatted_code);\n",
       "                        }\n",
       "                        break;\n",
       "                    }\n",
       "                }\n",
       "            }, 500);\n",
       "            "
      ],
      "text/plain": [
       "<IPython.core.display.Javascript object>"
      ]
     },
     "metadata": {},
     "output_type": "display_data"
    }
   ],
   "source": [
    "aus_co2_ch4_df = pd.merge(aus_annual_mean_co2_df, aus_annual_mean_ch4_df, on=\"YYYY\")\n",
    "aus_air_pollutants_combined_data = pd.merge(\n",
    "    aus_co2_ch4_df, aus_annual_mean_n2o_df, on=\"YYYY\"\n",
    ")\n",
    "aus_air_pollutants_combined_data.to_csv(\n",
    "    \"aus_air_pollutants_combined_data.csv\", index=False\n",
    ")\n",
    "aus_air_pollutants_combined_data.head(2)"
   ]
  }
 ],
 "metadata": {
  "kernelspec": {
   "display_name": "bushfires",
   "language": "python",
   "name": "bushfires"
  },
  "language_info": {
   "codemirror_mode": {
    "name": "ipython",
    "version": 3
   },
   "file_extension": ".py",
   "mimetype": "text/x-python",
   "name": "python",
   "nbconvert_exporter": "python",
   "pygments_lexer": "ipython3",
   "version": "3.7.5"
  }
 },
 "nbformat": 4,
 "nbformat_minor": 2
}
